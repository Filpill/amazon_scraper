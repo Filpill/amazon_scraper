{
 "cells": [
  {
   "cell_type": "markdown",
   "metadata": {},
   "source": [
    "### Libraries"
   ]
  },
  {
   "cell_type": "code",
   "execution_count": 150,
   "metadata": {},
   "outputs": [],
   "source": [
    "import json\n",
    "import requests\n",
    "import urllib.parse\n",
    "import pandas as pd\n",
    "import matplotlib.pyplot as plt\n",
    "from textwrap import wrap\n",
    "from datetime import date\n",
    "\n",
    "today_str = date.today().strftime('%d-%b-%y')"
   ]
  },
  {
   "cell_type": "markdown",
   "metadata": {},
   "source": [
    "### Requests"
   ]
  },
  {
   "cell_type": "code",
   "execution_count": 24,
   "metadata": {},
   "outputs": [],
   "source": [
    "base_url = 'https://m00m3rfw1a-dsn.algolia.net/1/indexes/*/queries'\n",
    "params = {\n",
    "    'x-algolia-agent': 'Algolia for JavaScript (4.5.1); Browser (lite)',\n",
    "    'x-algolia-api-key': '97780d6ca6d719cafd5ef2556417e2ce',\n",
    "    'x-algolia-application-id': 'M00M3RFW1A'\n",
    "}\n",
    "\n",
    "request_url = f\"{base_url}?{urllib.parse.urlencode(params)}\"\n",
    "\n",
    "headers = {\n",
    "    'Accept': '*/*',\n",
    "    'Accept-Language': 'en-GB,en;q=0.9,en-US;q=0.8,bs;q=0.7,hr;q=0.6',\n",
    "    'Connection': 'keep-alive',\n",
    "    'Origin': 'https://shop.pimoroni.com',\n",
    "    'Referer': 'https://shop.pimoroni.com/',\n",
    "    'Sec-Fetch-Dest': 'empty',\n",
    "    'Sec-Fetch-Mode': 'cors',\n",
    "    'Sec-Fetch-Site': 'cross-site',\n",
    "    'User-Agent': 'Mozilla/5.0 (Windows NT 10.0; Win64; x64) AppleWebKit/537.36 (KHTML, like Gecko) Chrome/116.0.0.0 Safari/537.36',\n",
    "    'content-type': 'application/x-www-form-urlencoded',\n",
    "    'sec-ch-ua': '\"Chromium\";v=\"116\", \"Not)A;Brand\";v=\"24\", \"Google Chrome\";v=\"116\"',\n",
    "    'sec-ch-ua-mobile': '?0',\n",
    "    'sec-ch-ua-platform': '\"Windows\"',\n",
    "}"
   ]
  },
  {
   "cell_type": "code",
   "execution_count": 237,
   "metadata": {},
   "outputs": [],
   "source": [
    "collections = [\n",
    "    \"Raspberry Pi\",\n",
    "    \"Raspberry Pi Pico\",\n",
    "    \"Feather by Adafruit\",\n",
    "    \"Kits\",\n",
    "    \"Components\",\n",
    "    \"Tools\",\n",
    "    \"Kids\"\n",
    "]\n",
    "\n",
    "# \"Breakouts, Boards & Electronics\",\n",
    "collections = sorted(collections,key=len,reverse=True)"
   ]
  },
  {
   "cell_type": "code",
   "execution_count": 26,
   "metadata": {},
   "outputs": [],
   "source": [
    "def request_response(request_url,headers,hits,facet):\n",
    "    form_data = {\n",
    "        'requests': [\n",
    "            {\n",
    "                'indexName': 'shop.pimoroni.com.variants',\n",
    "                'query': '',\n",
    "                'params': f'facetFilters=[[\"collections:{facet}\"]]&hitsPerPage={hits}&page=0&attributesToRetrieve=[\"id\",\"product_id\",\"handle\",\"retired\",\"product_title\",\"variant_title\",\"description_first_paragraph\",\"image\",\"hidden_tags\",\"price_ex_vat\",\"compare_price_ex_vat\",\"taxable\",\"in_stock\",\"rating\",\"review_count\",\"pre_order\",\"special\"]'\n",
    "            }\n",
    "        ]\n",
    "    }\n",
    "    response = requests.post(request_url, json=form_data, headers=headers)\n",
    "    response_dict = json.loads(response.text)\n",
    "    df_response = pd.DataFrame.from_dict(response_dict,orient='columns')\n",
    "    return df_response"
   ]
  },
  {
   "cell_type": "code",
   "execution_count": 27,
   "metadata": {},
   "outputs": [],
   "source": [
    "def hits_counter(df_response):\n",
    "    hits_dict = df_response.loc[0,'results']\n",
    "    df_hits = pd.json_normalize(hits_dict)\n",
    "    hits = df_hits.loc[0,'nbHits']\n",
    "    print(\"Number of hits against facet: \",hits)\n",
    "    return hits"
   ]
  },
  {
   "cell_type": "code",
   "execution_count": 28,
   "metadata": {},
   "outputs": [],
   "source": [
    "def base_table(request_url,headers,hits,facet):\n",
    "    df_json = request_response(request_url,headers,hits,facet)\n",
    "    result_dict_list = df_json.loc[0,'results']\n",
    "    df_hits = pd.json_normalize(result_dict_list)\n",
    "    list_of_products = df_hits.loc[0,'hits']\n",
    "    df_base = pd.json_normalize(list_of_products)\n",
    "    return df_base"
   ]
  },
  {
   "cell_type": "code",
   "execution_count": 29,
   "metadata": {},
   "outputs": [],
   "source": [
    "def prune_cols(df):\n",
    "    cols = [\n",
    "            'id',\n",
    "            'product_id',\n",
    "            'product_title',\n",
    "            'variant_title',\n",
    "            'price_ex_vat',\n",
    "            '_highlightResult.product_type.value',\n",
    "            '_highlightResult.vendor.value',\n",
    "            'image'\n",
    "            ]\n",
    "    df_products = df.copy()\n",
    "    df_products = df_products[cols]\n",
    "    df_products.rename(columns={\n",
    "        \"_highlightResult.product_type.value\":\"product_type\",\n",
    "        \"_highlightResult.vendor.value\":\"vendor\",\n",
    "        \"price_ex_vat\":\"price\"\n",
    "    },inplace=True)\n",
    "    df_products['price'] = df_products['price']*1.2\n",
    "    return df_products"
   ]
  },
  {
   "cell_type": "code",
   "execution_count": 30,
   "metadata": {},
   "outputs": [],
   "source": [
    "def facet_products(request_url,headers,facet):\n",
    "    # Extracting Number of Product Hits First\n",
    "    df_response = request_response(request_url,headers,1,facet)\n",
    "    hits = hits_counter(df_response)\n",
    "\n",
    "    # Get all products of a given facet\n",
    "    df = base_table(request_url,headers,hits,facet)\n",
    "    df_products = prune_cols(df)\n",
    "    return df_products"
   ]
  },
  {
   "cell_type": "code",
   "execution_count": 31,
   "metadata": {},
   "outputs": [
    {
     "name": "stdout",
     "output_type": "stream",
     "text": [
      "0 Raspberry Pi\n",
      "Number of hits against facet:  534\n",
      "1 Raspberry Pi Pico\n",
      "Number of hits against facet:  137\n",
      "2 Feather by Adafruit\n",
      "Number of hits against facet:  130\n",
      "3 Kits\n",
      "Number of hits against facet:  93\n",
      "4 Components\n",
      "Number of hits against facet:  628\n",
      "5 Tools\n",
      "Number of hits against facet:  106\n",
      "6 Kids\n",
      "Number of hits against facet:  66\n"
     ]
    }
   ],
   "source": [
    "for i,facet in enumerate(collections):\n",
    "    print(i,facet)\n",
    "    if i == 0 :\n",
    "        df_products = facet_products(request_url,headers,facet)\n",
    "    if i != 0:\n",
    "        df_facet = facet_products(request_url,headers,facet)\n",
    "        df_products = pd.concat([df_products,df_facet])"
   ]
  },
  {
   "cell_type": "markdown",
   "metadata": {},
   "source": [
    "### Grouping"
   ]
  },
  {
   "cell_type": "code",
   "execution_count": 32,
   "metadata": {},
   "outputs": [],
   "source": [
    "df_products.reset_index().drop(columns=\"index\")\n",
    "df_products.drop_duplicates(subset=['id'],inplace=True)"
   ]
  },
  {
   "cell_type": "code",
   "execution_count": 33,
   "metadata": {},
   "outputs": [
    {
     "data": {
      "text/html": [
       "<div>\n",
       "<style scoped>\n",
       "    .dataframe tbody tr th:only-of-type {\n",
       "        vertical-align: middle;\n",
       "    }\n",
       "\n",
       "    .dataframe tbody tr th {\n",
       "        vertical-align: top;\n",
       "    }\n",
       "\n",
       "    .dataframe thead th {\n",
       "        text-align: right;\n",
       "    }\n",
       "</style>\n",
       "<table border=\"1\" class=\"dataframe\">\n",
       "  <thead>\n",
       "    <tr style=\"text-align: right;\">\n",
       "      <th></th>\n",
       "      <th>id</th>\n",
       "      <th>product_id</th>\n",
       "      <th>product_title</th>\n",
       "      <th>variant_title</th>\n",
       "      <th>price</th>\n",
       "      <th>product_type</th>\n",
       "      <th>vendor</th>\n",
       "      <th>image</th>\n",
       "    </tr>\n",
       "  </thead>\n",
       "  <tbody>\n",
       "    <tr>\n",
       "      <th>0</th>\n",
       "      <td>31856486416467</td>\n",
       "      <td>3855360327763</td>\n",
       "      <td>Raspberry Pi 4 Model B</td>\n",
       "      <td>8GB RAM</td>\n",
       "      <td>74.94</td>\n",
       "      <td>Raspberry Pi</td>\n",
       "      <td>Raspberry Pi</td>\n",
       "      <td>https://cdn.shopify.com/s/files/1/0174/1800/pr...</td>\n",
       "    </tr>\n",
       "    <tr>\n",
       "      <th>1</th>\n",
       "      <td>29157087445075</td>\n",
       "      <td>3855360327763</td>\n",
       "      <td>Raspberry Pi 4 Model B</td>\n",
       "      <td>4GB RAM</td>\n",
       "      <td>54.96</td>\n",
       "      <td>Raspberry Pi</td>\n",
       "      <td>Raspberry Pi</td>\n",
       "      <td>https://cdn.shopify.com/s/files/1/0174/1800/pr...</td>\n",
       "    </tr>\n",
       "    <tr>\n",
       "      <th>2</th>\n",
       "      <td>39862027190355</td>\n",
       "      <td>3876163977299</td>\n",
       "      <td>Picade</td>\n",
       "      <td>Amazebundle: Picade + Pi4 8GB, PSU, and 32GB SD</td>\n",
       "      <td>249.00</td>\n",
       "      <td>Arcade</td>\n",
       "      <td>Pimoroni</td>\n",
       "      <td>https://cdn.shopify.com/s/files/1/0174/1800/pr...</td>\n",
       "    </tr>\n",
       "  </tbody>\n",
       "</table>\n",
       "</div>"
      ],
      "text/plain": [
       "               id     product_id           product_title  \\\n",
       "0  31856486416467  3855360327763  Raspberry Pi 4 Model B   \n",
       "1  29157087445075  3855360327763  Raspberry Pi 4 Model B   \n",
       "2  39862027190355  3876163977299                  Picade   \n",
       "\n",
       "                                     variant_title   price  product_type  \\\n",
       "0                                          8GB RAM   74.94  Raspberry Pi   \n",
       "1                                          4GB RAM   54.96  Raspberry Pi   \n",
       "2  Amazebundle: Picade + Pi4 8GB, PSU, and 32GB SD  249.00        Arcade   \n",
       "\n",
       "         vendor                                              image  \n",
       "0  Raspberry Pi  https://cdn.shopify.com/s/files/1/0174/1800/pr...  \n",
       "1  Raspberry Pi  https://cdn.shopify.com/s/files/1/0174/1800/pr...  \n",
       "2      Pimoroni  https://cdn.shopify.com/s/files/1/0174/1800/pr...  "
      ]
     },
     "execution_count": 33,
     "metadata": {},
     "output_type": "execute_result"
    }
   ],
   "source": [
    "df_products[:3]"
   ]
  },
  {
   "cell_type": "code",
   "execution_count": 53,
   "metadata": {},
   "outputs": [
    {
     "data": {
      "text/html": [
       "<div>\n",
       "<style scoped>\n",
       "    .dataframe tbody tr th:only-of-type {\n",
       "        vertical-align: middle;\n",
       "    }\n",
       "\n",
       "    .dataframe tbody tr th {\n",
       "        vertical-align: top;\n",
       "    }\n",
       "\n",
       "    .dataframe thead th {\n",
       "        text-align: right;\n",
       "    }\n",
       "</style>\n",
       "<table border=\"1\" class=\"dataframe\">\n",
       "  <thead>\n",
       "    <tr style=\"text-align: right;\">\n",
       "      <th></th>\n",
       "      <th>vendor</th>\n",
       "      <th>count</th>\n",
       "    </tr>\n",
       "  </thead>\n",
       "  <tbody>\n",
       "    <tr>\n",
       "      <th>33</th>\n",
       "      <td>Other</td>\n",
       "      <td>349</td>\n",
       "    </tr>\n",
       "    <tr>\n",
       "      <th>39</th>\n",
       "      <td>Pimoroni</td>\n",
       "      <td>269</td>\n",
       "    </tr>\n",
       "    <tr>\n",
       "      <th>3</th>\n",
       "      <td>Adafruit</td>\n",
       "      <td>233</td>\n",
       "    </tr>\n",
       "  </tbody>\n",
       "</table>\n",
       "</div>"
      ],
      "text/plain": [
       "      vendor  count\n",
       "33     Other    349\n",
       "39  Pimoroni    269\n",
       "3   Adafruit    233"
      ]
     },
     "execution_count": 53,
     "metadata": {},
     "output_type": "execute_result"
    }
   ],
   "source": [
    "df_vendor_count = df_products.groupby(['vendor'])['id'].count().reset_index(name='count').sort_values(by='count',ascending=False)\n",
    "df_vendor_count[:3]"
   ]
  },
  {
   "cell_type": "markdown",
   "metadata": {},
   "source": [
    "### Visualization"
   ]
  },
  {
   "cell_type": "code",
   "execution_count": 248,
   "metadata": {},
   "outputs": [
    {
     "name": "stderr",
     "output_type": "stream",
     "text": [
      "C:\\Users\\Filip\\AppData\\Local\\Temp\\ipykernel_15620\\1824664374.py:37: UserWarning: FixedFormatter should only be used together with FixedLocator\n",
      "  ax.set_xticklabels(product_type_newlines)\n"
     ]
    },
    {
     "data": {
      "image/png": "[encoded data removed]",
      "text/plain": [
       "<Figure size 1080x360 with 1 Axes>"
      ]
     },
     "metadata": {
      "needs_background": "light"
     },
     "output_type": "display_data"
    }
   ],
   "source": [
    "# Grouping Elements\n",
    "top = 20\n",
    "df_type_count = df_products.groupby(['product_type'])['id'].count().reset_index(name='count')\n",
    "df_type_count = df_type_count.sort_values(by='count',ascending=False).head(top)\n",
    "product_type_newlines = ['\\n'.join(wrap(open,12)) for i,open in enumerate(df_type_count['product_type'][0:top])]\n",
    "\n",
    "# Drawing Chart\n",
    "fig, ax = plt.subplots(figsize=(15,5),edgecolor='darkslategrey',linewidth=2)\n",
    "ax.bar(df_type_count['product_type'],df_type_count['count'],color='lightcoral',edgecolor='darkslategrey',lw=1.5)\n",
    "ax.set_title(f'Top {top} Types of Products, loc='left',fontsize=14)\n",
    "\n",
    "# Annotations\n",
    "top_label_y = 1.05\n",
    "anno_separation = 0.07\n",
    "cat_sep = 0.04\n",
    "ax.text(x=0.995, y=top_label_y, s=f'Data refreshed: {today_str}', transform=ax.transAxes, va='top', ha='right')\n",
    "ax.text(x=0.995, y=top_label_y-anno_separation, s=f'Website Analysed: Pimoroni.com', transform=ax.transAxes, va='top', ha='right')\n",
    "\n",
    "collect_str = \"\"\n",
    "collect_str = collect_str.join([ele+\"\\n\" if i < len(collections) else ele for i,ele in enumerate(collections,start=1)])\n",
    "collect_str = \"Collections Scraped:\\n\\n\" + collect_str\n",
    "\n",
    "# these are matplotlib.patch.Patch properties\n",
    "props = dict(boxstyle='round', facecolor='wheat', alpha=0.5)\n",
    "\n",
    "# place a text box in upper left in axes coords\n",
    "ax.text(0.865, 0.8, \n",
    "        collect_str, \n",
    "        transform=ax.transAxes, \n",
    "        fontsize=10,\n",
    "        va='top', \n",
    "        ha='left',\n",
    "        bbox=props\n",
    "        )\n",
    "\n",
    "# Wrapping and Spacing X-Ticks\n",
    "ax.set_xticklabels(product_type_newlines)\n",
    "for i,count in enumerate(df_type_count['count']):\n",
    "    ax.text(i,count,int(count),\n",
    "            fontsize=12,\n",
    "            color='white',\n",
    "            weight='bold',\n",
    "            bbox=dict(fc=(.2, .4, .3), lw=1.5, pad=0.5),\n",
    "            va='bottom',\n",
    "            ha='center'\n",
    "            )\n",
    "for tick in ax.xaxis.get_major_ticks()[1::2]:\n",
    "    tick.set_pad(20)"
   ]
  },
  {
   "cell_type": "code",
   "execution_count": null,
   "metadata": {},
   "outputs": [],
   "source": []
  }
 ],
 "metadata": {
  "kernelspec": {
   "display_name": "base",
   "language": "python",
   "name": "python3"
  },
  "language_info": {
   "codemirror_mode": {
    "name": "ipython",
    "version": 3
   },
   "file_extension": ".py",
   "mimetype": "text/x-python",
   "name": "python",
   "nbconvert_exporter": "python",
   "pygments_lexer": "ipython3",
   "version": "3.9.12"
  },
  "orig_nbformat": 4
 },
 "nbformat": 4,
 "nbformat_minor": 2
}
